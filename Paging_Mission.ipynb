{
  "nbformat": 4,
  "nbformat_minor": 0,
  "metadata": {
    "colab": {
      "provenance": [],
      "authorship_tag": "ABX9TyPFN+GQmpdzRdRItZK5H7PH",
      "include_colab_link": true
    },
    "kernelspec": {
      "name": "python3",
      "display_name": "Python 3"
    },
    "language_info": {
      "name": "python"
    }
  },
  "cells": [
    {
      "cell_type": "markdown",
      "metadata": {
        "id": "view-in-github",
        "colab_type": "text"
      },
      "source": [
        "<a href=\"https://colab.research.google.com/github/ogwustephen2023/Paging-Mission/blob/main/Paging_Mission.ipynb\" target=\"_parent\"><img src=\"https://colab.research.google.com/assets/colab-badge.svg\" alt=\"Open In Colab\"/></a>"
      ]
    },
    {
      "cell_type": "code",
      "execution_count": 1,
      "metadata": {
        "colab": {
          "base_uri": "https://localhost:8080/"
        },
        "id": "fYUD89iCXVyo",
        "outputId": "79ca96ae-563d-4807-fa36-d517e8ac78c4"
      },
      "outputs": [
        {
          "output_type": "stream",
          "name": "stdout",
          "text": [
            "[\n",
            "    {\n",
            "        \"satelliteId\": 1000,\n",
            "        \"severity\": \"RED LOW\",\n",
            "        \"component\": \"BATT\",\n",
            "        \"timestamp\": \"2018-01-01T23:04:11.531000Z\"\n",
            "    },\n",
            "    {\n",
            "        \"satelliteId\": 1000,\n",
            "        \"severity\": \"RED HIGH\",\n",
            "        \"component\": \"TSTAT\",\n",
            "        \"timestamp\": \"2018-01-01T23:03:05.009000Z\"\n",
            "    }\n",
            "]\n"
          ]
        }
      ],
      "source": [
        "\n",
        "import json\n",
        "from datetime import datetime, timedelta\n",
        "\n",
        "\n",
        "def parse_line(line):\n",
        "    fields = line.strip().split('|')\n",
        "    timestamp = datetime.strptime(fields[0], \"%Y%m%d %H:%M:%S.%f\")\n",
        "    satellite_id = int(fields[1])\n",
        "    red_high_limit = float(fields[2])\n",
        "    yellow_high_limit = float(fields[3])\n",
        "    yellow_low_limit = float(fields[4])\n",
        "    red_low_limit = float(fields[5])\n",
        "    raw_value = float(fields[6])\n",
        "    component = fields[7]\n",
        "    return (timestamp, satellite_id, red_high_limit, yellow_high_limit, yellow_low_limit, red_low_limit, raw_value, component)\n",
        "\n",
        "def check_violations(readings, limit, condition):\n",
        "    count = 0\n",
        "    for timestamp, value in readings:\n",
        "        if condition(value, limit):\n",
        "            count += 1\n",
        "        if count >= 3:\n",
        "            return timestamp\n",
        "    return None\n",
        "\n",
        "def generate_alerts(filename):\n",
        "    data = {}\n",
        "\n",
        "    with open(filename, 'r') as file:\n",
        "        for line in file:\n",
        "            timestamp, satellite_id, red_high_limit, yellow_high_limit, yellow_low_limit, red_low_limit, raw_value, component = parse_line(line)\n",
        "            if satellite_id not in data:\n",
        "                data[satellite_id] = {'BATT': [], 'TSTAT': []}\n",
        "            data[satellite_id][component].append((timestamp, raw_value, red_high_limit, red_low_limit))\n",
        "\n",
        "    alerts = []\n",
        "    for satellite_id, components in data.items():\n",
        "        for component, readings in components.items():\n",
        "            # Sort readings by timestamp\n",
        "            readings.sort()\n",
        "            timestamps, values, red_high_limits, red_low_limits = zip(*readings)\n",
        "\n",
        "            # Check red high limit violation for TSTAT\n",
        "            if component == 'TSTAT':\n",
        "                red_high_limit = red_high_limits[0]  # Same limit for all readings\n",
        "                violation_timestamp = check_violations(list(zip(timestamps, values)), red_high_limit, lambda v, limit: v > limit)\n",
        "                if violation_timestamp:\n",
        "                    alerts.append({\n",
        "                        \"satelliteId\": satellite_id,\n",
        "                        \"severity\": \"RED HIGH\",\n",
        "                        \"component\": component,\n",
        "                        \"timestamp\": violation_timestamp.strftime(\"%Y-%m-%dT%H:%M:%S.%fZ\")\n",
        "                    })\n",
        "\n",
        "            # Check red low limit violation for BATT\n",
        "            if component == 'BATT':\n",
        "                red_low_limit = red_low_limits[0]  # Same limit for all readings\n",
        "                violation_timestamp = check_violations(list(zip(timestamps, values)), red_low_limit, lambda v, limit: v < limit)\n",
        "                if violation_timestamp:\n",
        "                    alerts.append({\n",
        "                        \"satelliteId\": satellite_id,\n",
        "                        \"severity\": \"RED LOW\",\n",
        "                        \"component\": component,\n",
        "                        \"timestamp\": violation_timestamp.strftime(\"%Y-%m-%dT%H:%M:%S.%fZ\")\n",
        "                    })\n",
        "\n",
        "    return alerts\n",
        "\n",
        "# Sample data input\n",
        "input_data = \"\"\"20180101 23:01:05.001|1001|101|98|25|20|99.9|TSTAT\n",
        "20180101 23:01:09.521|1000|17|15|9|8|7.8|BATT\n",
        "20180101 23:01:26.011|1001|101|98|25|20|99.8|TSTAT\n",
        "20180101 23:01:38.001|1000|101|98|25|20|102.9|TSTAT\n",
        "20180101 23:01:49.021|1000|101|98|25|20|87.9|TSTAT\n",
        "20180101 23:02:09.014|1001|101|98|25|20|89.3|TSTAT\n",
        "20180101 23:02:10.021|1001|101|98|25|20|89.4|TSTAT\n",
        "20180101 23:02:11.302|1000|17|15|9|8|7.7|BATT\n",
        "20180101 23:03:03.008|1000|101|98|25|20|102.7|TSTAT\n",
        "20180101 23:03:05.009|1000|101|98|25|20|101.2|TSTAT\n",
        "20180101 23:04:06.017|1001|101|98|25|20|89.9|TSTAT\n",
        "20180101 23:04:11.531|1000|17|15|9|8|7.9|BATT\n",
        "20180101 23:05:05.021|1001|101|98|25|20|89.9|TSTAT\n",
        "20180101 23:05:07.421|1001|17|15|9|8|7.9|BATT\n",
        "\"\"\"\n",
        "\n",
        "# Write sample data to file for testing\n",
        "with open('sample_data.txt', 'w') as f:\n",
        "    f.write(input_data)\n",
        "\n",
        "# Generate alerts\n",
        "alerts = generate_alerts('sample_data.txt')\n",
        "\n",
        "# Print alerts in JSON format\n",
        "print(json.dumps(alerts, indent=4))\n",
        ""
      ]
    }
  ]
}